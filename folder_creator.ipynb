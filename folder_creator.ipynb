{
 "cells": [
  {
   "cell_type": "code",
   "execution_count": 1,
   "id": "4cedb3e8",
   "metadata": {},
   "outputs": [],
   "source": [
    "import os"
   ]
  },
  {
   "cell_type": "code",
   "execution_count": 4,
   "id": "13f47817",
   "metadata": {},
   "outputs": [
    {
     "name": "stdout",
     "output_type": "stream",
     "text": [
      "Checking for parent directory: 'F:\\OneDrive - Green Energy\\Desktop\\test'...\n",
      "Parent directory 'F:\\OneDrive - Green Energy\\Desktop\\test' is ready.\n",
      "\n",
      "Creating bot-specific folders...\n",
      "  ✅ Created: F:\\OneDrive - Green Energy\\Desktop\\test\\Accounts\n",
      "  ✅ Created: F:\\OneDrive - Green Energy\\Desktop\\test\\Finance\n",
      "  ✅ Created: F:\\OneDrive - Green Energy\\Desktop\\test\\Sales\n",
      "  ✅ Created: F:\\OneDrive - Green Energy\\Desktop\\test\\Marketing\n",
      "  ✅ Created: F:\\OneDrive - Green Energy\\Desktop\\test\\Admin\n",
      "  ✅ Created: F:\\OneDrive - Green Energy\\Desktop\\test\\Production\n",
      "  ✅ Created: F:\\OneDrive - Green Energy\\Desktop\\test\\SCM\n",
      "\n",
      "--- Folder creation process complete! ---\n"
     ]
    }
   ],
   "source": [
    "# --- Configuration ---\n",
    "# The main directory where your bot's source documents will be stored.\n",
    "# This will be created in the same location where your Jupyter Notebook is running.\n",
    "parent_directory = r\"F:\\OneDrive - Green Energy\\Desktop\\test\"\n",
    "\n",
    "# List of the bot categories, formatted as folder names without spaces.\n",
    "bot_folders = [\n",
    "    \"Accounts\",\n",
    "    \"Finance\",\n",
    "    \"Sales\",\n",
    "    \"Marketing\",\n",
    "    \"Admin\",\n",
    "    \"Production\",\n",
    "    \"SCM\"\n",
    "]\n",
    "\n",
    "# --- Script Logic ---\n",
    "print(f\"Checking for parent directory: '{parent_directory}'...\")\n",
    "\n",
    "# Create the main 'sources' directory if it doesn't exist.\n",
    "# The `exist_ok=True` argument prevents an error if the folder already exists.\n",
    "os.makedirs(parent_directory, exist_ok=True)\n",
    "\n",
    "if os.path.isdir(parent_directory):\n",
    "    print(f\"Parent directory '{parent_directory}' is ready.\")\n",
    "else:\n",
    "    print(f\"Error: Could not create parent directory '{parent_directory}'.\")\n",
    "    # Exit if the parent directory couldn't be created, as the next steps would fail.\n",
    "    # In a notebook, this just stops this cell's execution.\n",
    "    exit()\n",
    "\n",
    "print(\"\\nCreating bot-specific folders...\")\n",
    "\n",
    "# Loop through the list of folder names and create each one.\n",
    "for folder_name in bot_folders:\n",
    "    # os.path.join() correctly combines the parent and child folder names\n",
    "    # for any operating system (Windows, macOS, Linux).\n",
    "    full_path = os.path.join(parent_directory, folder_name)\n",
    "    \n",
    "    # Check if the folder already exists before trying to create it.\n",
    "    if not os.path.exists(full_path):\n",
    "        os.makedirs(full_path)\n",
    "        print(f\"  ✅ Created: {full_path}\")\n",
    "    else:\n",
    "        print(f\"  👍 Already exists: {full_path}\")\n",
    "\n",
    "print(\"\\n--- Folder creation process complete! ---\")\n"
   ]
  },
  {
   "cell_type": "code",
   "execution_count": null,
   "id": "b49531c8",
   "metadata": {},
   "outputs": [],
   "source": []
  }
 ],
 "metadata": {
  "kernelspec": {
   "display_name": "Python 3",
   "language": "python",
   "name": "python3"
  },
  "language_info": {
   "codemirror_mode": {
    "name": "ipython",
    "version": 3
   },
   "file_extension": ".py",
   "mimetype": "text/x-python",
   "name": "python",
   "nbconvert_exporter": "python",
   "pygments_lexer": "ipython3",
   "version": "3.10.11"
  }
 },
 "nbformat": 4,
 "nbformat_minor": 5
}
